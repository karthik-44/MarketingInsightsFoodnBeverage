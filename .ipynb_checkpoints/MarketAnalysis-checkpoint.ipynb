{
 "cells": [
  {
   "cell_type": "code",
   "execution_count": null,
   "id": "4a4f0be1",
   "metadata": {},
   "outputs": [],
   "source": []
  },
  {
   "cell_type": "markdown",
   "id": "0a043545",
   "metadata": {},
   "source": [
    "**Domain:** F & B   **Function:** Marketing  \n",
    "`CodeX` is a German beverage company that is aiming to make its mark in the **Indian market.** A few months ago, they launched their energy drink in 10 cities in India.\n",
    "Their Marketing team is responsible for increasing \n",
    "- brand awareness, \n",
    "- market share,\n",
    "- product development.  \n",
    "\n",
    "Survey was conducted in 10 cities and received results from 10k respondents.  \n",
    "As a marketing data analyst we are tasked to convert these survey results to meaningful insights which the team can use to drive actions.\n"
   ]
  },
  {
   "cell_type": "code",
   "execution_count": 1,
   "id": "4f3d65c2",
   "metadata": {},
   "outputs": [],
   "source": [
    "import pandas as pd\n",
    "import numpy as np\n",
    "import seaborn as sns\n",
    "import matplotlib.pyplot as plt"
   ]
  },
  {
   "cell_type": "code",
   "execution_count": 2,
   "id": "f83dc313",
   "metadata": {},
   "outputs": [],
   "source": [
    "%matplotlib inline\n",
    "plt.style.use('ggplot')"
   ]
  },
  {
   "cell_type": "code",
   "execution_count": 3,
   "id": "84af9b91",
   "metadata": {},
   "outputs": [],
   "source": [
    "pd.set_option('display.max_columns', None)"
   ]
  },
  {
   "cell_type": "code",
   "execution_count": 4,
   "id": "3b3d9fc4",
   "metadata": {},
   "outputs": [],
   "source": [
    "pd.set_option('display.max_rows', 70)"
   ]
  },
  {
   "cell_type": "code",
   "execution_count": 5,
   "id": "42c21faa",
   "metadata": {},
   "outputs": [],
   "source": [
    "# read the data from the csv files\n",
    "\n",
    "cities = pd.read_csv('./Dataset/dim_cities.csv')\n",
    "respondents = pd.read_csv('./Dataset/dim_repondents.csv')\n",
    "survey = pd.read_csv('./Dataset/fact_survey_responses.csv')\n"
   ]
  },
  {
   "cell_type": "code",
   "execution_count": 6,
   "id": "9237648d",
   "metadata": {},
   "outputs": [
    {
     "data": {
      "text/html": [
       "<div>\n",
       "<style scoped>\n",
       "    .dataframe tbody tr th:only-of-type {\n",
       "        vertical-align: middle;\n",
       "    }\n",
       "\n",
       "    .dataframe tbody tr th {\n",
       "        vertical-align: top;\n",
       "    }\n",
       "\n",
       "    .dataframe thead th {\n",
       "        text-align: right;\n",
       "    }\n",
       "</style>\n",
       "<table border=\"1\" class=\"dataframe\">\n",
       "  <thead>\n",
       "    <tr style=\"text-align: right;\">\n",
       "      <th></th>\n",
       "      <th>City_ID</th>\n",
       "      <th>City</th>\n",
       "      <th>Tier</th>\n",
       "    </tr>\n",
       "  </thead>\n",
       "  <tbody>\n",
       "    <tr>\n",
       "      <th>2</th>\n",
       "      <td>CT113</td>\n",
       "      <td>Bangalore</td>\n",
       "      <td>Tier 1</td>\n",
       "    </tr>\n",
       "    <tr>\n",
       "      <th>3</th>\n",
       "      <td>CT114</td>\n",
       "      <td>Chennai</td>\n",
       "      <td>Tier 1</td>\n",
       "    </tr>\n",
       "    <tr>\n",
       "      <th>0</th>\n",
       "      <td>CT111</td>\n",
       "      <td>Delhi</td>\n",
       "      <td>Tier 1</td>\n",
       "    </tr>\n",
       "    <tr>\n",
       "      <th>5</th>\n",
       "      <td>CT116</td>\n",
       "      <td>Hyderabad</td>\n",
       "      <td>Tier 1</td>\n",
       "    </tr>\n",
       "    <tr>\n",
       "      <th>1</th>\n",
       "      <td>CT112</td>\n",
       "      <td>Mumbai</td>\n",
       "      <td>Tier 1</td>\n",
       "    </tr>\n",
       "    <tr>\n",
       "      <th>6</th>\n",
       "      <td>CT117</td>\n",
       "      <td>Ahmedabad</td>\n",
       "      <td>Tier 2</td>\n",
       "    </tr>\n",
       "    <tr>\n",
       "      <th>8</th>\n",
       "      <td>CT119</td>\n",
       "      <td>Jaipur</td>\n",
       "      <td>Tier 2</td>\n",
       "    </tr>\n",
       "    <tr>\n",
       "      <th>4</th>\n",
       "      <td>CT115</td>\n",
       "      <td>Kolkata</td>\n",
       "      <td>Tier 2</td>\n",
       "    </tr>\n",
       "    <tr>\n",
       "      <th>9</th>\n",
       "      <td>CT120</td>\n",
       "      <td>Lucknow</td>\n",
       "      <td>Tier 2</td>\n",
       "    </tr>\n",
       "    <tr>\n",
       "      <th>7</th>\n",
       "      <td>CT118</td>\n",
       "      <td>Pune</td>\n",
       "      <td>Tier 2</td>\n",
       "    </tr>\n",
       "  </tbody>\n",
       "</table>\n",
       "</div>"
      ],
      "text/plain": [
       "  City_ID       City    Tier\n",
       "2   CT113  Bangalore  Tier 1\n",
       "3   CT114    Chennai  Tier 1\n",
       "0   CT111      Delhi  Tier 1\n",
       "5   CT116  Hyderabad  Tier 1\n",
       "1   CT112     Mumbai  Tier 1\n",
       "6   CT117  Ahmedabad  Tier 2\n",
       "8   CT119     Jaipur  Tier 2\n",
       "4   CT115    Kolkata  Tier 2\n",
       "9   CT120    Lucknow  Tier 2\n",
       "7   CT118       Pune  Tier 2"
      ]
     },
     "execution_count": 6,
     "metadata": {},
     "output_type": "execute_result"
    }
   ],
   "source": [
    "cities.sort_values(['Tier','City'])"
   ]
  },
  {
   "cell_type": "markdown",
   "id": "098995d4",
   "metadata": {},
   "source": [
    "Tier 1 cities: Bangalore, Chennai, Delhi, Hyderabad, Mumbai  \n",
    "Tier 2 cities: Ahmedabad, Jaipur, Kolkata, Lucknow, Pune"
   ]
  },
  {
   "cell_type": "code",
   "execution_count": 7,
   "id": "982f2f45",
   "metadata": {},
   "outputs": [
    {
     "name": "stdout",
     "output_type": "stream",
     "text": [
      "<class 'pandas.core.frame.DataFrame'>\n",
      "RangeIndex: 10000 entries, 0 to 9999\n",
      "Data columns (total 5 columns):\n",
      " #   Column         Non-Null Count  Dtype \n",
      "---  ------         --------------  ----- \n",
      " 0   Respondent_ID  10000 non-null  int64 \n",
      " 1   Name           10000 non-null  object\n",
      " 2   Age            10000 non-null  object\n",
      " 3   Gender         10000 non-null  object\n",
      " 4   City_ID        10000 non-null  object\n",
      "dtypes: int64(1), object(4)\n",
      "memory usage: 390.8+ KB\n"
     ]
    }
   ],
   "source": [
    "respondents.info()"
   ]
  },
  {
   "cell_type": "code",
   "execution_count": 8,
   "id": "e0d27217",
   "metadata": {},
   "outputs": [
    {
     "data": {
      "text/html": [
       "<div>\n",
       "<style scoped>\n",
       "    .dataframe tbody tr th:only-of-type {\n",
       "        vertical-align: middle;\n",
       "    }\n",
       "\n",
       "    .dataframe tbody tr th {\n",
       "        vertical-align: top;\n",
       "    }\n",
       "\n",
       "    .dataframe thead th {\n",
       "        text-align: right;\n",
       "    }\n",
       "</style>\n",
       "<table border=\"1\" class=\"dataframe\">\n",
       "  <thead>\n",
       "    <tr style=\"text-align: right;\">\n",
       "      <th></th>\n",
       "      <th>Respondent_ID</th>\n",
       "      <th>Name</th>\n",
       "      <th>Age</th>\n",
       "      <th>Gender</th>\n",
       "      <th>City_ID</th>\n",
       "    </tr>\n",
       "  </thead>\n",
       "  <tbody>\n",
       "    <tr>\n",
       "      <th>0</th>\n",
       "      <td>120031</td>\n",
       "      <td>Aniruddh Issac</td>\n",
       "      <td>15-18</td>\n",
       "      <td>Female</td>\n",
       "      <td>CT117</td>\n",
       "    </tr>\n",
       "    <tr>\n",
       "      <th>1</th>\n",
       "      <td>120032</td>\n",
       "      <td>Trisha Rout</td>\n",
       "      <td>19-30</td>\n",
       "      <td>Male</td>\n",
       "      <td>CT118</td>\n",
       "    </tr>\n",
       "    <tr>\n",
       "      <th>2</th>\n",
       "      <td>120033</td>\n",
       "      <td>Yuvraj  Virk</td>\n",
       "      <td>15-18</td>\n",
       "      <td>Male</td>\n",
       "      <td>CT116</td>\n",
       "    </tr>\n",
       "    <tr>\n",
       "      <th>3</th>\n",
       "      <td>120034</td>\n",
       "      <td>Pranay Chand</td>\n",
       "      <td>31-45</td>\n",
       "      <td>Female</td>\n",
       "      <td>CT113</td>\n",
       "    </tr>\n",
       "    <tr>\n",
       "      <th>4</th>\n",
       "      <td>120035</td>\n",
       "      <td>Mohanlal Joshi</td>\n",
       "      <td>19-30</td>\n",
       "      <td>Female</td>\n",
       "      <td>CT120</td>\n",
       "    </tr>\n",
       "  </tbody>\n",
       "</table>\n",
       "</div>"
      ],
      "text/plain": [
       "   Respondent_ID            Name    Age  Gender City_ID\n",
       "0         120031  Aniruddh Issac  15-18  Female   CT117\n",
       "1         120032     Trisha Rout  19-30    Male   CT118\n",
       "2         120033    Yuvraj  Virk  15-18    Male   CT116\n",
       "3         120034    Pranay Chand  31-45  Female   CT113\n",
       "4         120035  Mohanlal Joshi  19-30  Female   CT120"
      ]
     },
     "execution_count": 8,
     "metadata": {},
     "output_type": "execute_result"
    }
   ],
   "source": [
    "respondents.head()"
   ]
  },
  {
   "cell_type": "code",
   "execution_count": 9,
   "id": "d9ec7faf",
   "metadata": {},
   "outputs": [
    {
     "name": "stdout",
     "output_type": "stream",
     "text": [
      "Unique values in Column - Respondent_ID:  10000\n",
      "Unique values in Column - Name:  9487\n",
      "Unique values in Column - Age:  5\n",
      "Unique values in Column - Gender:  3\n",
      "Unique values in Column - City_ID:  10\n"
     ]
    },
    {
     "data": {
      "text/plain": [
       "[None, None, None, None, None]"
      ]
     },
     "execution_count": 9,
     "metadata": {},
     "output_type": "execute_result"
    }
   ],
   "source": [
    "[print(\"Unique values in Column - {}: \".format(col),respondents[col].nunique()) for col in respondents.columns]"
   ]
  },
  {
   "cell_type": "code",
   "execution_count": 10,
   "id": "cdf7d174",
   "metadata": {},
   "outputs": [
    {
     "data": {
      "text/html": [
       "<div>\n",
       "<style scoped>\n",
       "    .dataframe tbody tr th:only-of-type {\n",
       "        vertical-align: middle;\n",
       "    }\n",
       "\n",
       "    .dataframe tbody tr th {\n",
       "        vertical-align: top;\n",
       "    }\n",
       "\n",
       "    .dataframe thead th {\n",
       "        text-align: right;\n",
       "    }\n",
       "</style>\n",
       "<table border=\"1\" class=\"dataframe\">\n",
       "  <thead>\n",
       "    <tr style=\"text-align: right;\">\n",
       "      <th></th>\n",
       "      <th>Response_ID</th>\n",
       "      <th>Respondent_ID</th>\n",
       "      <th>Consume_frequency</th>\n",
       "      <th>Consume_time</th>\n",
       "      <th>Consume_reason</th>\n",
       "      <th>Heard_before</th>\n",
       "      <th>Brand_perception</th>\n",
       "      <th>General_perception</th>\n",
       "      <th>Tried_before</th>\n",
       "      <th>Taste_experience</th>\n",
       "      <th>Reasons_preventing_trying</th>\n",
       "      <th>Current_brands</th>\n",
       "      <th>Reasons_for_choosing_brands</th>\n",
       "      <th>Improvements_desired</th>\n",
       "      <th>Ingredients_expected</th>\n",
       "      <th>Health_concerns</th>\n",
       "      <th>Interest_in_natural_or_organic</th>\n",
       "      <th>Marketing_channels</th>\n",
       "      <th>Packaging_preference</th>\n",
       "      <th>Limited_edition_packaging</th>\n",
       "      <th>Price_range</th>\n",
       "      <th>Purchase_location</th>\n",
       "      <th>Typical_consumption_situations</th>\n",
       "    </tr>\n",
       "  </thead>\n",
       "  <tbody>\n",
       "    <tr>\n",
       "      <th>0</th>\n",
       "      <td>103001</td>\n",
       "      <td>120031</td>\n",
       "      <td>2-3 times a week</td>\n",
       "      <td>To stay awake during work/study</td>\n",
       "      <td>Increased energy and focus</td>\n",
       "      <td>Yes</td>\n",
       "      <td>Neutral</td>\n",
       "      <td>Not sure</td>\n",
       "      <td>No</td>\n",
       "      <td>5</td>\n",
       "      <td>Unfamiliar with the brand</td>\n",
       "      <td>Blue Bull</td>\n",
       "      <td>Availability</td>\n",
       "      <td>Reduced sugar content</td>\n",
       "      <td>Guarana</td>\n",
       "      <td>No</td>\n",
       "      <td>Yes</td>\n",
       "      <td>TV commercials</td>\n",
       "      <td>Compact and portable cans</td>\n",
       "      <td>Yes</td>\n",
       "      <td>50-99</td>\n",
       "      <td>Supermarkets</td>\n",
       "      <td>Studying/working late</td>\n",
       "    </tr>\n",
       "    <tr>\n",
       "      <th>1</th>\n",
       "      <td>103002</td>\n",
       "      <td>120032</td>\n",
       "      <td>2-3 times a month</td>\n",
       "      <td>Throughout the day</td>\n",
       "      <td>To boost performance</td>\n",
       "      <td>No</td>\n",
       "      <td>Neutral</td>\n",
       "      <td>Not sure</td>\n",
       "      <td>No</td>\n",
       "      <td>5</td>\n",
       "      <td>Not interested in energy drinks</td>\n",
       "      <td>Bepsi</td>\n",
       "      <td>Availability</td>\n",
       "      <td>More natural ingredients</td>\n",
       "      <td>Caffeine</td>\n",
       "      <td>Yes</td>\n",
       "      <td>Not Sure</td>\n",
       "      <td>Print media</td>\n",
       "      <td>Compact and portable cans</td>\n",
       "      <td>No</td>\n",
       "      <td>50-99</td>\n",
       "      <td>Supermarkets</td>\n",
       "      <td>Sports/exercise</td>\n",
       "    </tr>\n",
       "    <tr>\n",
       "      <th>2</th>\n",
       "      <td>103003</td>\n",
       "      <td>120033</td>\n",
       "      <td>Rarely</td>\n",
       "      <td>Before exercise</td>\n",
       "      <td>Increased energy and focus</td>\n",
       "      <td>No</td>\n",
       "      <td>Neutral</td>\n",
       "      <td>Not sure</td>\n",
       "      <td>No</td>\n",
       "      <td>2</td>\n",
       "      <td>Not available locally</td>\n",
       "      <td>Bepsi</td>\n",
       "      <td>Availability</td>\n",
       "      <td>More natural ingredients</td>\n",
       "      <td>Caffeine</td>\n",
       "      <td>No</td>\n",
       "      <td>Yes</td>\n",
       "      <td>Online ads</td>\n",
       "      <td>Innovative bottle design</td>\n",
       "      <td>Not Sure</td>\n",
       "      <td>100-150</td>\n",
       "      <td>Supermarkets</td>\n",
       "      <td>Studying/working late</td>\n",
       "    </tr>\n",
       "    <tr>\n",
       "      <th>3</th>\n",
       "      <td>103004</td>\n",
       "      <td>120034</td>\n",
       "      <td>2-3 times a week</td>\n",
       "      <td>To stay awake during work/study</td>\n",
       "      <td>To boost performance</td>\n",
       "      <td>No</td>\n",
       "      <td>Positive</td>\n",
       "      <td>Dangerous</td>\n",
       "      <td>Yes</td>\n",
       "      <td>5</td>\n",
       "      <td>Other</td>\n",
       "      <td>Bepsi</td>\n",
       "      <td>Other</td>\n",
       "      <td>Other</td>\n",
       "      <td>Caffeine</td>\n",
       "      <td>No</td>\n",
       "      <td>Yes</td>\n",
       "      <td>Online ads</td>\n",
       "      <td>Compact and portable cans</td>\n",
       "      <td>No</td>\n",
       "      <td>Above 150</td>\n",
       "      <td>Supermarkets</td>\n",
       "      <td>Sports/exercise</td>\n",
       "    </tr>\n",
       "    <tr>\n",
       "      <th>4</th>\n",
       "      <td>103005</td>\n",
       "      <td>120035</td>\n",
       "      <td>Daily</td>\n",
       "      <td>To stay awake during work/study</td>\n",
       "      <td>Increased energy and focus</td>\n",
       "      <td>Yes</td>\n",
       "      <td>Neutral</td>\n",
       "      <td>Effective</td>\n",
       "      <td>Yes</td>\n",
       "      <td>5</td>\n",
       "      <td>Other</td>\n",
       "      <td>Sky 9</td>\n",
       "      <td>Other</td>\n",
       "      <td>More natural ingredients</td>\n",
       "      <td>Caffeine</td>\n",
       "      <td>Yes</td>\n",
       "      <td>Yes</td>\n",
       "      <td>Online ads</td>\n",
       "      <td>Compact and portable cans</td>\n",
       "      <td>Yes</td>\n",
       "      <td>100-150</td>\n",
       "      <td>Online retailers</td>\n",
       "      <td>Studying/working late</td>\n",
       "    </tr>\n",
       "  </tbody>\n",
       "</table>\n",
       "</div>"
      ],
      "text/plain": [
       "   Response_ID  Respondent_ID  Consume_frequency  \\\n",
       "0       103001         120031   2-3 times a week   \n",
       "1       103002         120032  2-3 times a month   \n",
       "2       103003         120033             Rarely   \n",
       "3       103004         120034   2-3 times a week   \n",
       "4       103005         120035              Daily   \n",
       "\n",
       "                      Consume_time              Consume_reason Heard_before  \\\n",
       "0  To stay awake during work/study  Increased energy and focus          Yes   \n",
       "1               Throughout the day        To boost performance           No   \n",
       "2                  Before exercise  Increased energy and focus           No   \n",
       "3  To stay awake during work/study        To boost performance           No   \n",
       "4  To stay awake during work/study  Increased energy and focus          Yes   \n",
       "\n",
       "  Brand_perception General_perception Tried_before  Taste_experience  \\\n",
       "0          Neutral           Not sure           No                 5   \n",
       "1          Neutral           Not sure           No                 5   \n",
       "2          Neutral           Not sure           No                 2   \n",
       "3         Positive          Dangerous          Yes                 5   \n",
       "4          Neutral          Effective          Yes                 5   \n",
       "\n",
       "         Reasons_preventing_trying Current_brands Reasons_for_choosing_brands  \\\n",
       "0        Unfamiliar with the brand      Blue Bull                Availability   \n",
       "1  Not interested in energy drinks          Bepsi                Availability   \n",
       "2            Not available locally          Bepsi                Availability   \n",
       "3                            Other          Bepsi                       Other   \n",
       "4                            Other          Sky 9                       Other   \n",
       "\n",
       "       Improvements_desired Ingredients_expected Health_concerns  \\\n",
       "0     Reduced sugar content              Guarana              No   \n",
       "1  More natural ingredients             Caffeine             Yes   \n",
       "2  More natural ingredients             Caffeine              No   \n",
       "3                     Other             Caffeine              No   \n",
       "4  More natural ingredients             Caffeine             Yes   \n",
       "\n",
       "  Interest_in_natural_or_organic Marketing_channels  \\\n",
       "0                            Yes     TV commercials   \n",
       "1                       Not Sure        Print media   \n",
       "2                            Yes         Online ads   \n",
       "3                            Yes         Online ads   \n",
       "4                            Yes         Online ads   \n",
       "\n",
       "        Packaging_preference Limited_edition_packaging Price_range  \\\n",
       "0  Compact and portable cans                       Yes       50-99   \n",
       "1  Compact and portable cans                        No       50-99   \n",
       "2   Innovative bottle design                  Not Sure     100-150   \n",
       "3  Compact and portable cans                        No   Above 150   \n",
       "4  Compact and portable cans                       Yes     100-150   \n",
       "\n",
       "  Purchase_location Typical_consumption_situations  \n",
       "0      Supermarkets          Studying/working late  \n",
       "1      Supermarkets                Sports/exercise  \n",
       "2      Supermarkets          Studying/working late  \n",
       "3      Supermarkets                Sports/exercise  \n",
       "4  Online retailers          Studying/working late  "
      ]
     },
     "execution_count": 10,
     "metadata": {},
     "output_type": "execute_result"
    }
   ],
   "source": [
    "survey.head()"
   ]
  },
  {
   "cell_type": "code",
   "execution_count": 11,
   "id": "cad4ca29",
   "metadata": {},
   "outputs": [
    {
     "name": "stdout",
     "output_type": "stream",
     "text": [
      "<class 'pandas.core.frame.DataFrame'>\n",
      "RangeIndex: 10000 entries, 0 to 9999\n",
      "Data columns (total 23 columns):\n",
      " #   Column                          Non-Null Count  Dtype \n",
      "---  ------                          --------------  ----- \n",
      " 0   Response_ID                     10000 non-null  int64 \n",
      " 1   Respondent_ID                   10000 non-null  int64 \n",
      " 2   Consume_frequency               10000 non-null  object\n",
      " 3   Consume_time                    10000 non-null  object\n",
      " 4   Consume_reason                  10000 non-null  object\n",
      " 5   Heard_before                    10000 non-null  object\n",
      " 6   Brand_perception                10000 non-null  object\n",
      " 7   General_perception              10000 non-null  object\n",
      " 8   Tried_before                    10000 non-null  object\n",
      " 9   Taste_experience                10000 non-null  int64 \n",
      " 10  Reasons_preventing_trying       10000 non-null  object\n",
      " 11  Current_brands                  10000 non-null  object\n",
      " 12  Reasons_for_choosing_brands     10000 non-null  object\n",
      " 13  Improvements_desired            10000 non-null  object\n",
      " 14  Ingredients_expected            10000 non-null  object\n",
      " 15  Health_concerns                 10000 non-null  object\n",
      " 16  Interest_in_natural_or_organic  10000 non-null  object\n",
      " 17  Marketing_channels              10000 non-null  object\n",
      " 18  Packaging_preference            10000 non-null  object\n",
      " 19  Limited_edition_packaging       10000 non-null  object\n",
      " 20  Price_range                     10000 non-null  object\n",
      " 21  Purchase_location               10000 non-null  object\n",
      " 22  Typical_consumption_situations  10000 non-null  object\n",
      "dtypes: int64(3), object(20)\n",
      "memory usage: 1.8+ MB\n"
     ]
    }
   ],
   "source": [
    "survey.info()"
   ]
  },
  {
   "cell_type": "code",
   "execution_count": 12,
   "id": "1baf59d5",
   "metadata": {},
   "outputs": [
    {
     "name": "stdout",
     "output_type": "stream",
     "text": [
      "Unique values in Column - Response_ID:  10000\n",
      "Unique values in Column - Respondent_ID:  10000\n",
      "Unique values in Column - Consume_frequency:  5\n",
      "Unique values in Column - Consume_time:  4\n",
      "Unique values in Column - Consume_reason:  5\n",
      "Unique values in Column - Heard_before:  2\n",
      "Unique values in Column - Brand_perception:  3\n",
      "Unique values in Column - General_perception:  4\n",
      "Unique values in Column - Tried_before:  2\n",
      "Unique values in Column - Taste_experience:  5\n",
      "Unique values in Column - Reasons_preventing_trying:  5\n",
      "Unique values in Column - Current_brands:  7\n",
      "Unique values in Column - Reasons_for_choosing_brands:  5\n",
      "Unique values in Column - Improvements_desired:  5\n",
      "Unique values in Column - Ingredients_expected:  4\n",
      "Unique values in Column - Health_concerns:  2\n",
      "Unique values in Column - Interest_in_natural_or_organic:  3\n",
      "Unique values in Column - Marketing_channels:  5\n",
      "Unique values in Column - Packaging_preference:  5\n",
      "Unique values in Column - Limited_edition_packaging:  3\n",
      "Unique values in Column - Price_range:  4\n",
      "Unique values in Column - Purchase_location:  5\n",
      "Unique values in Column - Typical_consumption_situations:  5\n"
     ]
    },
    {
     "data": {
      "text/plain": [
       "[None,\n",
       " None,\n",
       " None,\n",
       " None,\n",
       " None,\n",
       " None,\n",
       " None,\n",
       " None,\n",
       " None,\n",
       " None,\n",
       " None,\n",
       " None,\n",
       " None,\n",
       " None,\n",
       " None,\n",
       " None,\n",
       " None,\n",
       " None,\n",
       " None,\n",
       " None,\n",
       " None,\n",
       " None,\n",
       " None]"
      ]
     },
     "execution_count": 12,
     "metadata": {},
     "output_type": "execute_result"
    }
   ],
   "source": [
    "[print(\"Unique values in Column - {}: \".format(col),survey[col].nunique()) for col in survey.columns]"
   ]
  },
  {
   "cell_type": "code",
   "execution_count": 13,
   "id": "0999ba02",
   "metadata": {},
   "outputs": [],
   "source": [
    "# create a dataframe that has information from all the tables\n",
    "df = respondents.merge(cities, how='inner', on='City_ID').merge(survey, how='inner', on='Respondent_ID')"
   ]
  },
  {
   "cell_type": "markdown",
   "id": "dc5912e5",
   "metadata": {},
   "source": [
    "For taste related experience of our brand, we should have the entries where 'Tried_before' == Yes. Because the rating given by someone who didn't taste our energy drink doesn't make sense as they might give just 1 or even high 5."
   ]
  },
  {
   "cell_type": "code",
   "execution_count": 14,
   "id": "dc104199",
   "metadata": {},
   "outputs": [
    {
     "data": {
      "text/html": [
       "<div>\n",
       "<style scoped>\n",
       "    .dataframe tbody tr th:only-of-type {\n",
       "        vertical-align: middle;\n",
       "    }\n",
       "\n",
       "    .dataframe tbody tr th {\n",
       "        vertical-align: top;\n",
       "    }\n",
       "\n",
       "    .dataframe thead th {\n",
       "        text-align: right;\n",
       "    }\n",
       "</style>\n",
       "<table border=\"1\" class=\"dataframe\">\n",
       "  <thead>\n",
       "    <tr style=\"text-align: right;\">\n",
       "      <th></th>\n",
       "      <th>Respondent_ID</th>\n",
       "      <th>Name</th>\n",
       "      <th>Age</th>\n",
       "      <th>Gender</th>\n",
       "      <th>City_ID</th>\n",
       "      <th>City</th>\n",
       "      <th>Tier</th>\n",
       "      <th>Response_ID</th>\n",
       "      <th>Consume_frequency</th>\n",
       "      <th>Consume_time</th>\n",
       "      <th>Consume_reason</th>\n",
       "      <th>Heard_before</th>\n",
       "      <th>Brand_perception</th>\n",
       "      <th>General_perception</th>\n",
       "      <th>Tried_before</th>\n",
       "      <th>Taste_experience</th>\n",
       "      <th>Reasons_preventing_trying</th>\n",
       "      <th>Current_brands</th>\n",
       "      <th>Reasons_for_choosing_brands</th>\n",
       "      <th>Improvements_desired</th>\n",
       "      <th>Ingredients_expected</th>\n",
       "      <th>Health_concerns</th>\n",
       "      <th>Interest_in_natural_or_organic</th>\n",
       "      <th>Marketing_channels</th>\n",
       "      <th>Packaging_preference</th>\n",
       "      <th>Limited_edition_packaging</th>\n",
       "      <th>Price_range</th>\n",
       "      <th>Purchase_location</th>\n",
       "      <th>Typical_consumption_situations</th>\n",
       "    </tr>\n",
       "  </thead>\n",
       "  <tbody>\n",
       "    <tr>\n",
       "      <th>0</th>\n",
       "      <td>120031</td>\n",
       "      <td>Aniruddh Issac</td>\n",
       "      <td>15-18</td>\n",
       "      <td>Female</td>\n",
       "      <td>CT117</td>\n",
       "      <td>Ahmedabad</td>\n",
       "      <td>Tier 2</td>\n",
       "      <td>103001</td>\n",
       "      <td>2-3 times a week</td>\n",
       "      <td>To stay awake during work/study</td>\n",
       "      <td>Increased energy and focus</td>\n",
       "      <td>Yes</td>\n",
       "      <td>Neutral</td>\n",
       "      <td>Not sure</td>\n",
       "      <td>No</td>\n",
       "      <td>5</td>\n",
       "      <td>Unfamiliar with the brand</td>\n",
       "      <td>Blue Bull</td>\n",
       "      <td>Availability</td>\n",
       "      <td>Reduced sugar content</td>\n",
       "      <td>Guarana</td>\n",
       "      <td>No</td>\n",
       "      <td>Yes</td>\n",
       "      <td>TV commercials</td>\n",
       "      <td>Compact and portable cans</td>\n",
       "      <td>Yes</td>\n",
       "      <td>50-99</td>\n",
       "      <td>Supermarkets</td>\n",
       "      <td>Studying/working late</td>\n",
       "    </tr>\n",
       "    <tr>\n",
       "      <th>1</th>\n",
       "      <td>120055</td>\n",
       "      <td>Umang Sarkar</td>\n",
       "      <td>31-45</td>\n",
       "      <td>Non-binary</td>\n",
       "      <td>CT117</td>\n",
       "      <td>Ahmedabad</td>\n",
       "      <td>Tier 2</td>\n",
       "      <td>103025</td>\n",
       "      <td>Once a week</td>\n",
       "      <td>Before exercise</td>\n",
       "      <td>To enhance sports performance</td>\n",
       "      <td>Yes</td>\n",
       "      <td>Neutral</td>\n",
       "      <td>Effective</td>\n",
       "      <td>Yes</td>\n",
       "      <td>3</td>\n",
       "      <td>Not available locally</td>\n",
       "      <td>Cola-Coka</td>\n",
       "      <td>Availability</td>\n",
       "      <td>Healthier alternatives</td>\n",
       "      <td>Sugar</td>\n",
       "      <td>No</td>\n",
       "      <td>No</td>\n",
       "      <td>Outdoor billboards</td>\n",
       "      <td>Eco-friendly design</td>\n",
       "      <td>No</td>\n",
       "      <td>Above 150</td>\n",
       "      <td>Gyms and fitness centers</td>\n",
       "      <td>Studying/working late</td>\n",
       "    </tr>\n",
       "    <tr>\n",
       "      <th>2</th>\n",
       "      <td>120057</td>\n",
       "      <td>Kanav Thaman</td>\n",
       "      <td>19-30</td>\n",
       "      <td>Male</td>\n",
       "      <td>CT117</td>\n",
       "      <td>Ahmedabad</td>\n",
       "      <td>Tier 2</td>\n",
       "      <td>103027</td>\n",
       "      <td>Daily</td>\n",
       "      <td>Before exercise</td>\n",
       "      <td>To boost performance</td>\n",
       "      <td>No</td>\n",
       "      <td>Neutral</td>\n",
       "      <td>Healthy</td>\n",
       "      <td>No</td>\n",
       "      <td>2</td>\n",
       "      <td>Not interested in energy drinks</td>\n",
       "      <td>Gangster</td>\n",
       "      <td>Taste/flavor preference</td>\n",
       "      <td>Reduced sugar content</td>\n",
       "      <td>Sugar</td>\n",
       "      <td>No</td>\n",
       "      <td>Not Sure</td>\n",
       "      <td>TV commercials</td>\n",
       "      <td>Innovative bottle design</td>\n",
       "      <td>No</td>\n",
       "      <td>50-99</td>\n",
       "      <td>Online retailers</td>\n",
       "      <td>Sports/exercise</td>\n",
       "    </tr>\n",
       "    <tr>\n",
       "      <th>3</th>\n",
       "      <td>120078</td>\n",
       "      <td>Suhana Ramakrishnan</td>\n",
       "      <td>19-30</td>\n",
       "      <td>Female</td>\n",
       "      <td>CT117</td>\n",
       "      <td>Ahmedabad</td>\n",
       "      <td>Tier 2</td>\n",
       "      <td>103048</td>\n",
       "      <td>Rarely</td>\n",
       "      <td>Before exercise</td>\n",
       "      <td>To enhance sports performance</td>\n",
       "      <td>No</td>\n",
       "      <td>Neutral</td>\n",
       "      <td>Dangerous</td>\n",
       "      <td>No</td>\n",
       "      <td>3</td>\n",
       "      <td>Health concerns</td>\n",
       "      <td>Others</td>\n",
       "      <td>Taste/flavor preference</td>\n",
       "      <td>Wider range of flavors</td>\n",
       "      <td>Guarana</td>\n",
       "      <td>Yes</td>\n",
       "      <td>Yes</td>\n",
       "      <td>TV commercials</td>\n",
       "      <td>Other</td>\n",
       "      <td>Not Sure</td>\n",
       "      <td>100-150</td>\n",
       "      <td>Supermarkets</td>\n",
       "      <td>Sports/exercise</td>\n",
       "    </tr>\n",
       "    <tr>\n",
       "      <th>4</th>\n",
       "      <td>120098</td>\n",
       "      <td>Saira Sridhar</td>\n",
       "      <td>19-30</td>\n",
       "      <td>Male</td>\n",
       "      <td>CT117</td>\n",
       "      <td>Ahmedabad</td>\n",
       "      <td>Tier 2</td>\n",
       "      <td>103068</td>\n",
       "      <td>Daily</td>\n",
       "      <td>Throughout the day</td>\n",
       "      <td>Other</td>\n",
       "      <td>No</td>\n",
       "      <td>Neutral</td>\n",
       "      <td>Effective</td>\n",
       "      <td>No</td>\n",
       "      <td>4</td>\n",
       "      <td>Health concerns</td>\n",
       "      <td>Blue Bull</td>\n",
       "      <td>Brand reputation</td>\n",
       "      <td>More natural ingredients</td>\n",
       "      <td>Sugar</td>\n",
       "      <td>Yes</td>\n",
       "      <td>No</td>\n",
       "      <td>TV commercials</td>\n",
       "      <td>Compact and portable cans</td>\n",
       "      <td>Yes</td>\n",
       "      <td>100-150</td>\n",
       "      <td>Other</td>\n",
       "      <td>Studying/working late</td>\n",
       "    </tr>\n",
       "    <tr>\n",
       "      <th>...</th>\n",
       "      <td>...</td>\n",
       "      <td>...</td>\n",
       "      <td>...</td>\n",
       "      <td>...</td>\n",
       "      <td>...</td>\n",
       "      <td>...</td>\n",
       "      <td>...</td>\n",
       "      <td>...</td>\n",
       "      <td>...</td>\n",
       "      <td>...</td>\n",
       "      <td>...</td>\n",
       "      <td>...</td>\n",
       "      <td>...</td>\n",
       "      <td>...</td>\n",
       "      <td>...</td>\n",
       "      <td>...</td>\n",
       "      <td>...</td>\n",
       "      <td>...</td>\n",
       "      <td>...</td>\n",
       "      <td>...</td>\n",
       "      <td>...</td>\n",
       "      <td>...</td>\n",
       "      <td>...</td>\n",
       "      <td>...</td>\n",
       "      <td>...</td>\n",
       "      <td>...</td>\n",
       "      <td>...</td>\n",
       "      <td>...</td>\n",
       "      <td>...</td>\n",
       "    </tr>\n",
       "    <tr>\n",
       "      <th>9995</th>\n",
       "      <td>129864</td>\n",
       "      <td>Ahana  Cherian</td>\n",
       "      <td>19-30</td>\n",
       "      <td>Male</td>\n",
       "      <td>CT111</td>\n",
       "      <td>Delhi</td>\n",
       "      <td>Tier 1</td>\n",
       "      <td>112834</td>\n",
       "      <td>Daily</td>\n",
       "      <td>Before exercise</td>\n",
       "      <td>Increased energy and focus</td>\n",
       "      <td>Yes</td>\n",
       "      <td>Neutral</td>\n",
       "      <td>Not sure</td>\n",
       "      <td>No</td>\n",
       "      <td>3</td>\n",
       "      <td>Other</td>\n",
       "      <td>Gangster</td>\n",
       "      <td>Effectiveness</td>\n",
       "      <td>Healthier alternatives</td>\n",
       "      <td>Sugar</td>\n",
       "      <td>Yes</td>\n",
       "      <td>No</td>\n",
       "      <td>Online ads</td>\n",
       "      <td>Compact and portable cans</td>\n",
       "      <td>No</td>\n",
       "      <td>50-99</td>\n",
       "      <td>Supermarkets</td>\n",
       "      <td>Sports/exercise</td>\n",
       "    </tr>\n",
       "    <tr>\n",
       "      <th>9996</th>\n",
       "      <td>129903</td>\n",
       "      <td>Saanvi Bose</td>\n",
       "      <td>31-45</td>\n",
       "      <td>Female</td>\n",
       "      <td>CT111</td>\n",
       "      <td>Delhi</td>\n",
       "      <td>Tier 1</td>\n",
       "      <td>112873</td>\n",
       "      <td>2-3 times a month</td>\n",
       "      <td>Before exercise</td>\n",
       "      <td>To combat fatigue</td>\n",
       "      <td>Yes</td>\n",
       "      <td>Neutral</td>\n",
       "      <td>Dangerous</td>\n",
       "      <td>No</td>\n",
       "      <td>3</td>\n",
       "      <td>Not interested in energy drinks</td>\n",
       "      <td>Bepsi</td>\n",
       "      <td>Availability</td>\n",
       "      <td>Other</td>\n",
       "      <td>Caffeine</td>\n",
       "      <td>Yes</td>\n",
       "      <td>No</td>\n",
       "      <td>Online ads</td>\n",
       "      <td>Eco-friendly design</td>\n",
       "      <td>Yes</td>\n",
       "      <td>50-99</td>\n",
       "      <td>Local stores</td>\n",
       "      <td>Social outings/parties</td>\n",
       "    </tr>\n",
       "    <tr>\n",
       "      <th>9997</th>\n",
       "      <td>129944</td>\n",
       "      <td>Rhea Mani</td>\n",
       "      <td>31-45</td>\n",
       "      <td>Male</td>\n",
       "      <td>CT111</td>\n",
       "      <td>Delhi</td>\n",
       "      <td>Tier 1</td>\n",
       "      <td>112914</td>\n",
       "      <td>2-3 times a month</td>\n",
       "      <td>To stay awake during work/study</td>\n",
       "      <td>Increased energy and focus</td>\n",
       "      <td>No</td>\n",
       "      <td>Positive</td>\n",
       "      <td>Effective</td>\n",
       "      <td>No</td>\n",
       "      <td>3</td>\n",
       "      <td>Not available locally</td>\n",
       "      <td>Bepsi</td>\n",
       "      <td>Other</td>\n",
       "      <td>More natural ingredients</td>\n",
       "      <td>Caffeine</td>\n",
       "      <td>Yes</td>\n",
       "      <td>Not Sure</td>\n",
       "      <td>Online ads</td>\n",
       "      <td>Compact and portable cans</td>\n",
       "      <td>Yes</td>\n",
       "      <td>100-150</td>\n",
       "      <td>Supermarkets</td>\n",
       "      <td>Studying/working late</td>\n",
       "    </tr>\n",
       "    <tr>\n",
       "      <th>9998</th>\n",
       "      <td>129956</td>\n",
       "      <td>Rhea D’Alia</td>\n",
       "      <td>31-45</td>\n",
       "      <td>Female</td>\n",
       "      <td>CT111</td>\n",
       "      <td>Delhi</td>\n",
       "      <td>Tier 1</td>\n",
       "      <td>112926</td>\n",
       "      <td>2-3 times a week</td>\n",
       "      <td>For mental alertness</td>\n",
       "      <td>Increased energy and focus</td>\n",
       "      <td>Yes</td>\n",
       "      <td>Neutral</td>\n",
       "      <td>Dangerous</td>\n",
       "      <td>No</td>\n",
       "      <td>5</td>\n",
       "      <td>Unfamiliar with the brand</td>\n",
       "      <td>Gangster</td>\n",
       "      <td>Brand reputation</td>\n",
       "      <td>More natural ingredients</td>\n",
       "      <td>Vitamins</td>\n",
       "      <td>No</td>\n",
       "      <td>Not Sure</td>\n",
       "      <td>TV commercials</td>\n",
       "      <td>Compact and portable cans</td>\n",
       "      <td>Not Sure</td>\n",
       "      <td>50-99</td>\n",
       "      <td>Supermarkets</td>\n",
       "      <td>Social outings/parties</td>\n",
       "    </tr>\n",
       "    <tr>\n",
       "      <th>9999</th>\n",
       "      <td>129957</td>\n",
       "      <td>Nirvi Golla</td>\n",
       "      <td>19-30</td>\n",
       "      <td>Male</td>\n",
       "      <td>CT111</td>\n",
       "      <td>Delhi</td>\n",
       "      <td>Tier 1</td>\n",
       "      <td>112927</td>\n",
       "      <td>2-3 times a month</td>\n",
       "      <td>To stay awake during work/study</td>\n",
       "      <td>To enhance sports performance</td>\n",
       "      <td>Yes</td>\n",
       "      <td>Positive</td>\n",
       "      <td>Effective</td>\n",
       "      <td>No</td>\n",
       "      <td>4</td>\n",
       "      <td>Not available locally</td>\n",
       "      <td>Cola-Coka</td>\n",
       "      <td>Effectiveness</td>\n",
       "      <td>Reduced sugar content</td>\n",
       "      <td>Caffeine</td>\n",
       "      <td>No</td>\n",
       "      <td>No</td>\n",
       "      <td>Other</td>\n",
       "      <td>Compact and portable cans</td>\n",
       "      <td>Yes</td>\n",
       "      <td>100-150</td>\n",
       "      <td>Gyms and fitness centers</td>\n",
       "      <td>Other</td>\n",
       "    </tr>\n",
       "  </tbody>\n",
       "</table>\n",
       "<p>10000 rows × 29 columns</p>\n",
       "</div>"
      ],
      "text/plain": [
       "      Respondent_ID                 Name    Age      Gender City_ID  \\\n",
       "0            120031       Aniruddh Issac  15-18      Female   CT117   \n",
       "1            120055         Umang Sarkar  31-45  Non-binary   CT117   \n",
       "2            120057         Kanav Thaman  19-30        Male   CT117   \n",
       "3            120078  Suhana Ramakrishnan  19-30      Female   CT117   \n",
       "4            120098        Saira Sridhar  19-30        Male   CT117   \n",
       "...             ...                  ...    ...         ...     ...   \n",
       "9995         129864       Ahana  Cherian  19-30        Male   CT111   \n",
       "9996         129903          Saanvi Bose  31-45      Female   CT111   \n",
       "9997         129944            Rhea Mani  31-45        Male   CT111   \n",
       "9998         129956          Rhea D’Alia  31-45      Female   CT111   \n",
       "9999         129957          Nirvi Golla  19-30        Male   CT111   \n",
       "\n",
       "           City    Tier  Response_ID  Consume_frequency  \\\n",
       "0     Ahmedabad  Tier 2       103001   2-3 times a week   \n",
       "1     Ahmedabad  Tier 2       103025        Once a week   \n",
       "2     Ahmedabad  Tier 2       103027              Daily   \n",
       "3     Ahmedabad  Tier 2       103048             Rarely   \n",
       "4     Ahmedabad  Tier 2       103068              Daily   \n",
       "...         ...     ...          ...                ...   \n",
       "9995      Delhi  Tier 1       112834              Daily   \n",
       "9996      Delhi  Tier 1       112873  2-3 times a month   \n",
       "9997      Delhi  Tier 1       112914  2-3 times a month   \n",
       "9998      Delhi  Tier 1       112926   2-3 times a week   \n",
       "9999      Delhi  Tier 1       112927  2-3 times a month   \n",
       "\n",
       "                         Consume_time                 Consume_reason  \\\n",
       "0     To stay awake during work/study     Increased energy and focus   \n",
       "1                     Before exercise  To enhance sports performance   \n",
       "2                     Before exercise           To boost performance   \n",
       "3                     Before exercise  To enhance sports performance   \n",
       "4                  Throughout the day                          Other   \n",
       "...                               ...                            ...   \n",
       "9995                  Before exercise     Increased energy and focus   \n",
       "9996                  Before exercise              To combat fatigue   \n",
       "9997  To stay awake during work/study     Increased energy and focus   \n",
       "9998             For mental alertness     Increased energy and focus   \n",
       "9999  To stay awake during work/study  To enhance sports performance   \n",
       "\n",
       "     Heard_before Brand_perception General_perception Tried_before  \\\n",
       "0             Yes          Neutral           Not sure           No   \n",
       "1             Yes          Neutral          Effective          Yes   \n",
       "2              No          Neutral            Healthy           No   \n",
       "3              No          Neutral          Dangerous           No   \n",
       "4              No          Neutral          Effective           No   \n",
       "...           ...              ...                ...          ...   \n",
       "9995          Yes          Neutral           Not sure           No   \n",
       "9996          Yes          Neutral          Dangerous           No   \n",
       "9997           No         Positive          Effective           No   \n",
       "9998          Yes          Neutral          Dangerous           No   \n",
       "9999          Yes         Positive          Effective           No   \n",
       "\n",
       "      Taste_experience        Reasons_preventing_trying Current_brands  \\\n",
       "0                    5        Unfamiliar with the brand      Blue Bull   \n",
       "1                    3            Not available locally      Cola-Coka   \n",
       "2                    2  Not interested in energy drinks       Gangster   \n",
       "3                    3                  Health concerns         Others   \n",
       "4                    4                  Health concerns      Blue Bull   \n",
       "...                ...                              ...            ...   \n",
       "9995                 3                            Other       Gangster   \n",
       "9996                 3  Not interested in energy drinks          Bepsi   \n",
       "9997                 3            Not available locally          Bepsi   \n",
       "9998                 5        Unfamiliar with the brand       Gangster   \n",
       "9999                 4            Not available locally      Cola-Coka   \n",
       "\n",
       "     Reasons_for_choosing_brands      Improvements_desired  \\\n",
       "0                   Availability     Reduced sugar content   \n",
       "1                   Availability    Healthier alternatives   \n",
       "2        Taste/flavor preference     Reduced sugar content   \n",
       "3        Taste/flavor preference    Wider range of flavors   \n",
       "4               Brand reputation  More natural ingredients   \n",
       "...                          ...                       ...   \n",
       "9995               Effectiveness    Healthier alternatives   \n",
       "9996                Availability                     Other   \n",
       "9997                       Other  More natural ingredients   \n",
       "9998            Brand reputation  More natural ingredients   \n",
       "9999               Effectiveness     Reduced sugar content   \n",
       "\n",
       "     Ingredients_expected Health_concerns Interest_in_natural_or_organic  \\\n",
       "0                 Guarana              No                            Yes   \n",
       "1                   Sugar              No                             No   \n",
       "2                   Sugar              No                       Not Sure   \n",
       "3                 Guarana             Yes                            Yes   \n",
       "4                   Sugar             Yes                             No   \n",
       "...                   ...             ...                            ...   \n",
       "9995                Sugar             Yes                             No   \n",
       "9996             Caffeine             Yes                             No   \n",
       "9997             Caffeine             Yes                       Not Sure   \n",
       "9998             Vitamins              No                       Not Sure   \n",
       "9999             Caffeine              No                             No   \n",
       "\n",
       "      Marketing_channels       Packaging_preference Limited_edition_packaging  \\\n",
       "0         TV commercials  Compact and portable cans                       Yes   \n",
       "1     Outdoor billboards        Eco-friendly design                        No   \n",
       "2         TV commercials   Innovative bottle design                        No   \n",
       "3         TV commercials                      Other                  Not Sure   \n",
       "4         TV commercials  Compact and portable cans                       Yes   \n",
       "...                  ...                        ...                       ...   \n",
       "9995          Online ads  Compact and portable cans                        No   \n",
       "9996          Online ads        Eco-friendly design                       Yes   \n",
       "9997          Online ads  Compact and portable cans                       Yes   \n",
       "9998      TV commercials  Compact and portable cans                  Not Sure   \n",
       "9999               Other  Compact and portable cans                       Yes   \n",
       "\n",
       "     Price_range         Purchase_location Typical_consumption_situations  \n",
       "0          50-99              Supermarkets          Studying/working late  \n",
       "1      Above 150  Gyms and fitness centers          Studying/working late  \n",
       "2          50-99          Online retailers                Sports/exercise  \n",
       "3        100-150              Supermarkets                Sports/exercise  \n",
       "4        100-150                     Other          Studying/working late  \n",
       "...          ...                       ...                            ...  \n",
       "9995       50-99              Supermarkets                Sports/exercise  \n",
       "9996       50-99              Local stores         Social outings/parties  \n",
       "9997     100-150              Supermarkets          Studying/working late  \n",
       "9998       50-99              Supermarkets         Social outings/parties  \n",
       "9999     100-150  Gyms and fitness centers                          Other  \n",
       "\n",
       "[10000 rows x 29 columns]"
      ]
     },
     "execution_count": 14,
     "metadata": {},
     "output_type": "execute_result"
    }
   ],
   "source": [
    "df"
   ]
  },
  {
   "cell_type": "markdown",
   "id": "475b4831",
   "metadata": {},
   "source": [
    "#### First of all lets see how many people currently consume/prefer our drink and how is the distribution across the cities."
   ]
  },
  {
   "cell_type": "code",
   "execution_count": 15,
   "id": "62a71aa4",
   "metadata": {},
   "outputs": [
    {
     "data": {
      "text/plain": [
       "Cola-Coka    2538\n",
       "Bepsi        2112\n",
       "Gangster     1854\n",
       "Blue Bull    1058\n",
       "CodeX         980\n",
       "Sky 9         979\n",
       "Others        479\n",
       "Name: Current_brands, dtype: int64"
      ]
     },
     "execution_count": 15,
     "metadata": {},
     "output_type": "execute_result"
    }
   ],
   "source": [
    "df.Current_brands.value_counts()"
   ]
  },
  {
   "cell_type": "markdown",
   "id": "ae75386a",
   "metadata": {},
   "source": [
    "Less than **10%** of respondents prefer our brand, hence the necessity to perform the market analysis and try to improve the sales for the product."
   ]
  },
  {
   "cell_type": "code",
   "execution_count": 16,
   "id": "420acd19",
   "metadata": {},
   "outputs": [],
   "source": [
    "# Respondents distribution from different cities.\n",
    "#df.groupby('City').agg(['count'])['Current_brands']"
   ]
  },
  {
   "cell_type": "code",
   "execution_count": 17,
   "id": "986d0f60",
   "metadata": {},
   "outputs": [],
   "source": [
    "#city_brand = df.groupby(['City', 'Current_brands']).agg(['count'])[['Respondent_ID']]"
   ]
  },
  {
   "cell_type": "code",
   "execution_count": 19,
   "id": "4365df2b",
   "metadata": {},
   "outputs": [],
   "source": [
    "# city_brand.reset_index().groupby('City').apply(lambda x: x.sort_values(('Respondent_ID','count'),\\\n",
    "#                                                                       ascending=False) )"
   ]
  },
  {
   "cell_type": "markdown",
   "id": "61eb4b43",
   "metadata": {},
   "source": [
    "Cola-Coka, Bepsi are top brands in all the cities."
   ]
  },
  {
   "cell_type": "markdown",
   "id": "3d762f80",
   "metadata": {},
   "source": [
    "### Primary Insights"
   ]
  },
  {
   "cell_type": "markdown",
   "id": "900bd1e1",
   "metadata": {},
   "source": [
    "### 1. Demographic Insights (examples)\n",
    "    "
   ]
  },
  {
   "cell_type": "markdown",
   "id": "f5c4e328",
   "metadata": {},
   "source": [
    "#####    a. Who prefers energy drink more? (male/female/non-binary?)\n",
    "    "
   ]
  },
  {
   "cell_type": "code",
   "execution_count": 60,
   "id": "362a2f6e",
   "metadata": {},
   "outputs": [
    {
     "data": {
      "text/plain": [
       "Male          6038\n",
       "Female        3455\n",
       "Non-binary     507\n",
       "Name: Gender, dtype: int64"
      ]
     },
     "execution_count": 60,
     "metadata": {},
     "output_type": "execute_result"
    }
   ],
   "source": [
    "df.Gender.value_counts()"
   ]
  },
  {
   "cell_type": "markdown",
   "id": "919ba8da",
   "metadata": {},
   "source": [
    "`Male` consume the energy drink more. Around 60% consumption"
   ]
  },
  {
   "cell_type": "code",
   "execution_count": 26,
   "id": "84264a66",
   "metadata": {},
   "outputs": [],
   "source": [
    "# ## People can prefer a drink but they can consume rarely.\n",
    "\n",
    "# df[~(df.Consume_frequency == 'Rarely')].Gender.value_counts()\n",
    "# df[~(df.Consume_frequency == 'Rarely')].Gender.value_counts()/df.Gender.value_counts() "
   ]
  },
  {
   "cell_type": "code",
   "execution_count": 27,
   "id": "79453a7c",
   "metadata": {},
   "outputs": [],
   "source": [
    "# ## heard before\n",
    "# df[~((df.Heard_before == 'No') & (df.Tried_before == 'Yes'))]"
   ]
  },
  {
   "cell_type": "code",
   "execution_count": 28,
   "id": "6cb350ca",
   "metadata": {},
   "outputs": [],
   "source": [
    "# df.Tried_before.value_counts()"
   ]
  },
  {
   "cell_type": "code",
   "execution_count": 29,
   "id": "358a0a5b",
   "metadata": {},
   "outputs": [],
   "source": [
    "# df[df.Tried_before == 'No'].Reasons_preventing_trying.value_counts()"
   ]
  },
  {
   "cell_type": "code",
   "execution_count": 30,
   "id": "ac4df1ed",
   "metadata": {},
   "outputs": [],
   "source": [
    "# df.Reasons_preventing_trying.value_counts()"
   ]
  },
  {
   "cell_type": "code",
   "execution_count": null,
   "id": "40115910",
   "metadata": {},
   "outputs": [],
   "source": []
  },
  {
   "cell_type": "code",
   "execution_count": 31,
   "id": "0689bfcd",
   "metadata": {},
   "outputs": [],
   "source": [
    "# df[(df.Current_brands == 'CodeX') & (df.Heard_before == 'Yes') & (df.Tried_before == 'Yes')].Price_range.value_counts()"
   ]
  },
  {
   "cell_type": "code",
   "execution_count": 32,
   "id": "031e37cd",
   "metadata": {},
   "outputs": [],
   "source": [
    "# df[df.Price_range == '100-150']"
   ]
  },
  {
   "cell_type": "markdown",
   "id": "9bc77e65",
   "metadata": {},
   "source": [
    "#####    b. Which age group prefers energy drinks more?"
   ]
  },
  {
   "cell_type": "code",
   "execution_count": 155,
   "id": "66d1e23f",
   "metadata": {},
   "outputs": [
    {
     "data": {
      "text/plain": [
       "19-30    5520\n",
       "31-45    2376\n",
       "15-18    1488\n",
       "46-65     426\n",
       "65+       190\n",
       "Name: Age, dtype: int64"
      ]
     },
     "execution_count": 155,
     "metadata": {},
     "output_type": "execute_result"
    }
   ],
   "source": [
    "df.Age.value_counts()"
   ]
  },
  {
   "cell_type": "markdown",
   "id": "83c57c94",
   "metadata": {},
   "source": [
    "'19-30' age group consumes energy drinks more accounting for 55%. After 30 years there is less likely a person prefers drinks."
   ]
  },
  {
   "cell_type": "markdown",
   "id": "1b9e8896",
   "metadata": {},
   "source": [
    "#####    c. Which type of marketing reaches the most Youth (15-30)?"
   ]
  },
  {
   "cell_type": "code",
   "execution_count": 33,
   "id": "8eeee7fb",
   "metadata": {},
   "outputs": [
    {
     "data": {
      "text/plain": [
       "Online ads            3373\n",
       "TV commercials        1785\n",
       "Outdoor billboards     702\n",
       "Other                  702\n",
       "Print media            446\n",
       "Name: Marketing_channels, dtype: int64"
      ]
     },
     "execution_count": 33,
     "metadata": {},
     "output_type": "execute_result"
    }
   ],
   "source": [
    "df.loc[df.Age.isin(['15-18','19-30']), 'Marketing_channels'].value_counts()"
   ]
  },
  {
   "cell_type": "markdown",
   "id": "f4df6a83",
   "metadata": {},
   "source": [
    "`Online ads and TV commercials` are the best ways to reach to youth who are major consumers for the energy drinks."
   ]
  },
  {
   "cell_type": "markdown",
   "id": "1b3d825e",
   "metadata": {},
   "source": [
    "### 2. Consumer Preferences:\n",
    "    "
   ]
  },
  {
   "cell_type": "markdown",
   "id": "613d96bd",
   "metadata": {},
   "source": [
    "#### a. What are the preferred ingredients of energy drinks among respondents?"
   ]
  },
  {
   "cell_type": "code",
   "execution_count": 72,
   "id": "76630144",
   "metadata": {},
   "outputs": [
    {
     "data": {
      "text/plain": [
       "Caffeine    3896\n",
       "Vitamins    2534\n",
       "Sugar       2017\n",
       "Guarana     1553\n",
       "Name: Ingredients_expected, dtype: int64"
      ]
     },
     "execution_count": 72,
     "metadata": {},
     "output_type": "execute_result"
    }
   ],
   "source": [
    "df.Ingredients_expected.value_counts()"
   ]
  },
  {
   "cell_type": "markdown",
   "id": "d94c03b9",
   "metadata": {},
   "source": [
    "`Caffeine and Vitamins` are preferred by the respondents."
   ]
  },
  {
   "cell_type": "code",
   "execution_count": 34,
   "id": "d7002882",
   "metadata": {},
   "outputs": [
    {
     "data": {
      "text/plain": [
       "Yes         4983\n",
       "No          3062\n",
       "Not Sure    1955\n",
       "Name: Interest_in_natural_or_organic, dtype: int64"
      ]
     },
     "execution_count": 34,
     "metadata": {},
     "output_type": "execute_result"
    }
   ],
   "source": [
    "# interest in organic ingredients\n",
    "df.Interest_in_natural_or_organic.value_counts()"
   ]
  },
  {
   "cell_type": "markdown",
   "id": "ea2dac67",
   "metadata": {},
   "source": [
    "Majority are interested in `Organic ingredients`"
   ]
  },
  {
   "cell_type": "code",
   "execution_count": 35,
   "id": "1bb8081c",
   "metadata": {},
   "outputs": [
    {
     "data": {
      "text/plain": [
       "Reduced sugar content       2995\n",
       "More natural ingredients    2498\n",
       "Wider range of flavors      2037\n",
       "Healthier alternatives      1472\n",
       "Other                        998\n",
       "Name: Improvements_desired, dtype: int64"
      ]
     },
     "execution_count": 35,
     "metadata": {},
     "output_type": "execute_result"
    }
   ],
   "source": [
    "df.Improvements_desired.value_counts()"
   ]
  },
  {
   "cell_type": "markdown",
   "id": "7cb0a3d3",
   "metadata": {},
   "source": [
    "Consumer preference: Organic ingredients with less sugar content in an energy drink."
   ]
  },
  {
   "cell_type": "code",
   "execution_count": null,
   "id": "4da47244",
   "metadata": {},
   "outputs": [],
   "source": []
  },
  {
   "cell_type": "markdown",
   "id": "5e06ea75",
   "metadata": {},
   "source": [
    "#### b. What packaging preferences do respondents have for energy drinks?"
   ]
  },
  {
   "cell_type": "code",
   "execution_count": 73,
   "id": "16ca0c85",
   "metadata": {},
   "outputs": [
    {
     "data": {
      "text/plain": [
       "Compact and portable cans    3984\n",
       "Innovative bottle design     3047\n",
       "Collectible packaging        1501\n",
       "Eco-friendly design           983\n",
       "Other                         485\n",
       "Name: Packaging_preference, dtype: int64"
      ]
     },
     "execution_count": 73,
     "metadata": {},
     "output_type": "execute_result"
    }
   ],
   "source": [
    "df.Packaging_preference.value_counts()"
   ]
  },
  {
   "cell_type": "markdown",
   "id": "a77b4cb2",
   "metadata": {},
   "source": [
    "`Compact and portable cans`, `Innovative bottle design` are preferred more. Lots of respondents didn't consider **Eco-friendly design** (but its better to have this) along with one of above. The age group of 15-30 is generally expected to have energy draining schedule because of either attending to schools, colleges and athletic events, excercise activities etc.,. so they need something compact and easy to carry."
   ]
  },
  {
   "cell_type": "code",
   "execution_count": 36,
   "id": "a4bf60d9",
   "metadata": {},
   "outputs": [
    {
     "data": {
      "text/plain": [
       "No          4023\n",
       "Yes         3946\n",
       "Not Sure    2031\n",
       "Name: Limited_edition_packaging, dtype: int64"
      ]
     },
     "execution_count": 36,
     "metadata": {},
     "output_type": "execute_result"
    }
   ],
   "source": [
    "df.Limited_edition_packaging.value_counts()"
   ]
  },
  {
   "cell_type": "code",
   "execution_count": 47,
   "id": "5dcc157a",
   "metadata": {},
   "outputs": [],
   "source": [
    "# df.groupby(['Tier','Limited_edition_packaging']).Response_ID.count().to_frame()\n",
    "# df.groupby('Tier').count()"
   ]
  },
  {
   "cell_type": "markdown",
   "id": "690cf251",
   "metadata": {},
   "source": [
    "As per this sample of data Limited_edition_packaging is not that vital for consumers.  \n",
    "So, we can focus on this aspect once our brand improves.(not a priority right now)"
   ]
  },
  {
   "cell_type": "code",
   "execution_count": null,
   "id": "da9033f1",
   "metadata": {},
   "outputs": [],
   "source": []
  },
  {
   "cell_type": "markdown",
   "id": "30293701",
   "metadata": {},
   "source": [
    "### 3. Competition Analysis:\n",
    "    "
   ]
  },
  {
   "cell_type": "markdown",
   "id": "7fdaded8",
   "metadata": {},
   "source": [
    "#### a. Who are the current market leaders?"
   ]
  },
  {
   "cell_type": "code",
   "execution_count": 74,
   "id": "9ef3f6fd",
   "metadata": {},
   "outputs": [
    {
     "data": {
      "text/plain": [
       "Cola-Coka    2538\n",
       "Bepsi        2112\n",
       "Gangster     1854\n",
       "Blue Bull    1058\n",
       "CodeX         980\n",
       "Sky 9         979\n",
       "Others        479\n",
       "Name: Current_brands, dtype: int64"
      ]
     },
     "execution_count": 74,
     "metadata": {},
     "output_type": "execute_result"
    }
   ],
   "source": [
    "df.Current_brands.value_counts()"
   ]
  },
  {
   "cell_type": "markdown",
   "id": "7c0f444d",
   "metadata": {},
   "source": [
    "`Cola-Coka` and `Bepsi` are current market leaders. We can look the details corresponding to these to see why people are towards it."
   ]
  },
  {
   "cell_type": "markdown",
   "id": "26cb751e",
   "metadata": {},
   "source": [
    "####    b. What are the primary reasons consumers prefer those brands over ours?"
   ]
  },
  {
   "cell_type": "code",
   "execution_count": 87,
   "id": "3829e652",
   "metadata": {},
   "outputs": [
    {
     "data": {
      "text/plain": [
       "Brand reputation           1193\n",
       "Taste/flavor preference     954\n",
       "Availability                928\n",
       "Other                       803\n",
       "Effectiveness               772\n",
       "Name: Reasons_for_choosing_brands, dtype: int64"
      ]
     },
     "execution_count": 87,
     "metadata": {},
     "output_type": "execute_result"
    }
   ],
   "source": [
    "df.loc[df.Current_brands.isin(['Cola-Coka', 'Bepsi']), 'Reasons_for_choosing_brands'].value_counts()"
   ]
  },
  {
   "cell_type": "markdown",
   "id": "eb816412",
   "metadata": {},
   "source": [
    "`Brand Reputation` and `Taste/flavor` are the main preferences by consumers."
   ]
  },
  {
   "cell_type": "code",
   "execution_count": null,
   "id": "3ec50a3d",
   "metadata": {},
   "outputs": [],
   "source": []
  },
  {
   "cell_type": "code",
   "execution_count": 48,
   "id": "c77c8dde",
   "metadata": {},
   "outputs": [
    {
     "data": {
      "text/plain": [
       "Brand reputation           259\n",
       "Availability               195\n",
       "Taste/flavor preference    182\n",
       "Effectiveness              176\n",
       "Other                      168\n",
       "Name: Reasons_for_choosing_brands, dtype: int64"
      ]
     },
     "execution_count": 48,
     "metadata": {},
     "output_type": "execute_result"
    }
   ],
   "source": [
    "# For our brand how we stand in terms of above preference?\n",
    "# what are major factors for our product given by current consumers\n",
    "df.loc[df.Current_brands == 'CodeX', 'Reasons_for_choosing_brands'].value_counts()"
   ]
  },
  {
   "cell_type": "code",
   "execution_count": 49,
   "id": "337014a8",
   "metadata": {},
   "outputs": [],
   "source": [
    "# # For our brand how we stand in terms of above preference those who have actually tried our product?\n",
    "# df.loc[(df.Current_brands == 'CodeX') & (df.Tried_before == 'Yes'),'Reasons_for_choosing_brands'].value_counts()"
   ]
  },
  {
   "cell_type": "markdown",
   "id": "6a0a4758",
   "metadata": {},
   "source": [
    "This indicates that we have to focus more interms of the improving the `taste` or `flavor` of the product."
   ]
  },
  {
   "cell_type": "code",
   "execution_count": null,
   "id": "7b3bbb20",
   "metadata": {},
   "outputs": [],
   "source": []
  },
  {
   "cell_type": "markdown",
   "id": "321549e4",
   "metadata": {},
   "source": [
    "### 4. Marketing Channels and Brand Awareness:\n",
    "    "
   ]
  },
  {
   "cell_type": "markdown",
   "id": "79a84021",
   "metadata": {},
   "source": [
    "#### a. Which marketing channel can be used to reach more customers?\n",
    "   "
   ]
  },
  {
   "cell_type": "code",
   "execution_count": 88,
   "id": "81d0ca7d",
   "metadata": {},
   "outputs": [
    {
     "data": {
      "text/plain": [
       "Online ads            4020\n",
       "TV commercials        2688\n",
       "Outdoor billboards    1226\n",
       "Other                 1225\n",
       "Print media            841\n",
       "Name: Marketing_channels, dtype: int64"
      ]
     },
     "execution_count": 88,
     "metadata": {},
     "output_type": "execute_result"
    }
   ],
   "source": [
    "df.Marketing_channels.value_counts()"
   ]
  },
  {
   "cell_type": "markdown",
   "id": "539840ad",
   "metadata": {},
   "source": [
    "As expected, a major portion of respondents have often come across energy drink advertisements through\n",
    "digital media - `Online ads` and `TV commercials`."
   ]
  },
  {
   "cell_type": "markdown",
   "id": "edf08eea",
   "metadata": {},
   "source": [
    "#### b. How effective are different marketing strategies and channels in reaching our customers?"
   ]
  },
  {
   "cell_type": "code",
   "execution_count": 89,
   "id": "75206a30",
   "metadata": {},
   "outputs": [
    {
     "data": {
      "text/plain": [
       "Online ads            411\n",
       "TV commercials        261\n",
       "Outdoor billboards    119\n",
       "Other                 116\n",
       "Print media            73\n",
       "Name: Marketing_channels, dtype: int64"
      ]
     },
     "execution_count": 89,
     "metadata": {},
     "output_type": "execute_result"
    }
   ],
   "source": [
    "# For our brand how we stand in terms of marketing channels?\n",
    "df.loc[df.Current_brands == 'CodeX', 'Marketing_channels'].value_counts()"
   ]
  },
  {
   "cell_type": "code",
   "execution_count": 91,
   "id": "c4426f00",
   "metadata": {},
   "outputs": [
    {
     "data": {
      "text/plain": [
       "Online ads            210\n",
       "TV commercials         87\n",
       "Other                  83\n",
       "Outdoor billboards     69\n",
       "Print media            39\n",
       "Name: Marketing_channels, dtype: int64"
      ]
     },
     "execution_count": 91,
     "metadata": {},
     "output_type": "execute_result"
    }
   ],
   "source": [
    "# # For our brand how we stand in terms of marketing channels those who have actually tried our product?\n",
    "# df.loc[(df.Current_brands == 'CodeX') & (df.Tried_before == 'Yes'),'Marketing_channels'].value_counts()"
   ]
  },
  {
   "cell_type": "markdown",
   "id": "6cebbd7d",
   "metadata": {},
   "source": [
    "In terms of marketing, we too follow the best trend to reach out to customers."
   ]
  },
  {
   "cell_type": "code",
   "execution_count": null,
   "id": "7ee939ae",
   "metadata": {},
   "outputs": [],
   "source": []
  },
  {
   "cell_type": "markdown",
   "id": "b45a0c28",
   "metadata": {},
   "source": [
    "### 5. Brand Penetration:\n",
    "    "
   ]
  },
  {
   "cell_type": "markdown",
   "id": "b7ffcc34",
   "metadata": {},
   "source": [
    "#### a. What do people think about our brand? (overall rating)"
   ]
  },
  {
   "cell_type": "markdown",
   "id": "c0730de0",
   "metadata": {},
   "source": [
    "For this we have to consider the people who actually have heard about the brand(name/logo/design). If they have not heard about us the information they give on our brand logo/design can't yield proper analysis."
   ]
  },
  {
   "cell_type": "code",
   "execution_count": 60,
   "id": "340b5430",
   "metadata": {},
   "outputs": [
    {
     "data": {
      "text/plain": [
       "Neutral     57.589386\n",
       "Positive    24.263548\n",
       "Negative    18.147065\n",
       "Name: Brand_perception, dtype: float64"
      ]
     },
     "execution_count": 60,
     "metadata": {},
     "output_type": "execute_result"
    }
   ],
   "source": [
    "df[df.Heard_before == 'Yes'].Brand_perception.value_counts() / len(df[df.Heard_before == 'Yes']) *100"
   ]
  },
  {
   "cell_type": "markdown",
   "id": "4e4613c7",
   "metadata": {},
   "source": [
    "As we can see around 60% of the respondents are neutral to our brand(name/logo/design). But as we have seen earlier that the current market leaders have better brand value. So, we have to improve our brand value.(logo and design)"
   ]
  },
  {
   "cell_type": "markdown",
   "id": "a1ef7441",
   "metadata": {},
   "source": [
    "#### what do people think about taste of our product"
   ]
  },
  {
   "cell_type": "markdown",
   "id": "51a2d3ae",
   "metadata": {},
   "source": [
    "For this we have to consider the respondents who have actually heard and tried the product.  \n",
    "Because without hearing us, they wouldn't have consumed/brought our drink."
   ]
  },
  {
   "cell_type": "code",
   "execution_count": 63,
   "id": "eae3d4a9",
   "metadata": {},
   "outputs": [],
   "source": [
    "tasted_codex = df[(df.Heard_before == 'Yes') & (df.Tried_before == 'Yes')]"
   ]
  },
  {
   "cell_type": "code",
   "execution_count": 67,
   "id": "62f4f0d0",
   "metadata": {},
   "outputs": [
    {
     "data": {
      "text/plain": [
       "3    0.31\n",
       "4    0.25\n",
       "5    0.19\n",
       "2    0.15\n",
       "1    0.10\n",
       "Name: Taste_experience, dtype: float64"
      ]
     },
     "execution_count": 67,
     "metadata": {},
     "output_type": "execute_result"
    }
   ],
   "source": [
    "np.round(tasted_codex.Taste_experience.value_counts(normalize=True),2)"
   ]
  },
  {
   "cell_type": "markdown",
   "id": "3aaff277",
   "metadata": {},
   "source": [
    "Apart from Brand value, `Taste\\flavor` is an important factor. So, we have to concentrate on improving the taste."
   ]
  },
  {
   "cell_type": "markdown",
   "id": "631d64f4",
   "metadata": {},
   "source": [
    "####    b. Which cities do we need to focus more on?"
   ]
  },
  {
   "cell_type": "markdown",
   "id": "5d6f3590",
   "metadata": {},
   "source": [
    "We have to identity how much we contribute in each city and where are we the bottom performers and improve there. \n",
    "For this we need to avoid the responses where people prefer our brand but have not heard about us"
   ]
  },
  {
   "cell_type": "code",
   "execution_count": 98,
   "id": "155d4926",
   "metadata": {},
   "outputs": [],
   "source": [
    "city_brand = df[~((df.Heard_before == 'No') & (df.Current_brands == 'CodeX'))]"
   ]
  },
  {
   "cell_type": "code",
   "execution_count": 99,
   "id": "b64f0dd1",
   "metadata": {},
   "outputs": [
    {
     "data": {
      "text/plain": [
       "(9475, 29)"
      ]
     },
     "execution_count": 99,
     "metadata": {},
     "output_type": "execute_result"
    }
   ],
   "source": [
    "city_brand.shape"
   ]
  },
  {
   "cell_type": "code",
   "execution_count": 105,
   "id": "b23503cb",
   "metadata": {},
   "outputs": [],
   "source": [
    "city_brand_pivot = city_brand.pivot_table(values='Respondent_ID', index='City', columns='Current_brands', aggfunc='count', margins=True)"
   ]
  },
  {
   "cell_type": "code",
   "execution_count": 106,
   "id": "ef8f1050",
   "metadata": {},
   "outputs": [
    {
     "data": {
      "text/html": [
       "<div>\n",
       "<style scoped>\n",
       "    .dataframe tbody tr th:only-of-type {\n",
       "        vertical-align: middle;\n",
       "    }\n",
       "\n",
       "    .dataframe tbody tr th {\n",
       "        vertical-align: top;\n",
       "    }\n",
       "\n",
       "    .dataframe thead th {\n",
       "        text-align: right;\n",
       "    }\n",
       "</style>\n",
       "<table border=\"1\" class=\"dataframe\">\n",
       "  <thead>\n",
       "    <tr style=\"text-align: right;\">\n",
       "      <th>Current_brands</th>\n",
       "      <th>Bepsi</th>\n",
       "      <th>Blue Bull</th>\n",
       "      <th>CodeX</th>\n",
       "      <th>Cola-Coka</th>\n",
       "      <th>Gangster</th>\n",
       "      <th>Others</th>\n",
       "      <th>Sky 9</th>\n",
       "      <th>All</th>\n",
       "    </tr>\n",
       "    <tr>\n",
       "      <th>City</th>\n",
       "      <th></th>\n",
       "      <th></th>\n",
       "      <th></th>\n",
       "      <th></th>\n",
       "      <th></th>\n",
       "      <th></th>\n",
       "      <th></th>\n",
       "      <th></th>\n",
       "    </tr>\n",
       "  </thead>\n",
       "  <tbody>\n",
       "    <tr>\n",
       "      <th>Ahmedabad</th>\n",
       "      <td>99</td>\n",
       "      <td>48</td>\n",
       "      <td>23</td>\n",
       "      <td>118</td>\n",
       "      <td>73</td>\n",
       "      <td>23</td>\n",
       "      <td>50</td>\n",
       "      <td>434</td>\n",
       "    </tr>\n",
       "    <tr>\n",
       "      <th>Bangalore</th>\n",
       "      <td>594</td>\n",
       "      <td>311</td>\n",
       "      <td>133</td>\n",
       "      <td>667</td>\n",
       "      <td>552</td>\n",
       "      <td>154</td>\n",
       "      <td>258</td>\n",
       "      <td>2669</td>\n",
       "    </tr>\n",
       "    <tr>\n",
       "      <th>Chennai</th>\n",
       "      <td>201</td>\n",
       "      <td>99</td>\n",
       "      <td>36</td>\n",
       "      <td>218</td>\n",
       "      <td>193</td>\n",
       "      <td>44</td>\n",
       "      <td>90</td>\n",
       "      <td>881</td>\n",
       "    </tr>\n",
       "    <tr>\n",
       "      <th>Delhi</th>\n",
       "      <td>73</td>\n",
       "      <td>42</td>\n",
       "      <td>25</td>\n",
       "      <td>128</td>\n",
       "      <td>76</td>\n",
       "      <td>25</td>\n",
       "      <td>45</td>\n",
       "      <td>414</td>\n",
       "    </tr>\n",
       "    <tr>\n",
       "      <th>Hyderabad</th>\n",
       "      <td>419</td>\n",
       "      <td>180</td>\n",
       "      <td>78</td>\n",
       "      <td>474</td>\n",
       "      <td>301</td>\n",
       "      <td>81</td>\n",
       "      <td>196</td>\n",
       "      <td>1729</td>\n",
       "    </tr>\n",
       "    <tr>\n",
       "      <th>Jaipur</th>\n",
       "      <td>76</td>\n",
       "      <td>49</td>\n",
       "      <td>9</td>\n",
       "      <td>91</td>\n",
       "      <td>73</td>\n",
       "      <td>15</td>\n",
       "      <td>28</td>\n",
       "      <td>341</td>\n",
       "    </tr>\n",
       "    <tr>\n",
       "      <th>Kolkata</th>\n",
       "      <td>113</td>\n",
       "      <td>67</td>\n",
       "      <td>17</td>\n",
       "      <td>142</td>\n",
       "      <td>101</td>\n",
       "      <td>28</td>\n",
       "      <td>67</td>\n",
       "      <td>535</td>\n",
       "    </tr>\n",
       "    <tr>\n",
       "      <th>Lucknow</th>\n",
       "      <td>42</td>\n",
       "      <td>20</td>\n",
       "      <td>3</td>\n",
       "      <td>50</td>\n",
       "      <td>31</td>\n",
       "      <td>5</td>\n",
       "      <td>22</td>\n",
       "      <td>173</td>\n",
       "    </tr>\n",
       "    <tr>\n",
       "      <th>Mumbai</th>\n",
       "      <td>292</td>\n",
       "      <td>142</td>\n",
       "      <td>95</td>\n",
       "      <td>402</td>\n",
       "      <td>304</td>\n",
       "      <td>73</td>\n",
       "      <td>141</td>\n",
       "      <td>1449</td>\n",
       "    </tr>\n",
       "    <tr>\n",
       "      <th>Pune</th>\n",
       "      <td>203</td>\n",
       "      <td>100</td>\n",
       "      <td>36</td>\n",
       "      <td>248</td>\n",
       "      <td>150</td>\n",
       "      <td>31</td>\n",
       "      <td>82</td>\n",
       "      <td>850</td>\n",
       "    </tr>\n",
       "    <tr>\n",
       "      <th>All</th>\n",
       "      <td>2112</td>\n",
       "      <td>1058</td>\n",
       "      <td>455</td>\n",
       "      <td>2538</td>\n",
       "      <td>1854</td>\n",
       "      <td>479</td>\n",
       "      <td>979</td>\n",
       "      <td>9475</td>\n",
       "    </tr>\n",
       "  </tbody>\n",
       "</table>\n",
       "</div>"
      ],
      "text/plain": [
       "Current_brands  Bepsi  Blue Bull  CodeX  Cola-Coka  Gangster  Others  Sky 9  \\\n",
       "City                                                                          \n",
       "Ahmedabad          99         48     23        118        73      23     50   \n",
       "Bangalore         594        311    133        667       552     154    258   \n",
       "Chennai           201         99     36        218       193      44     90   \n",
       "Delhi              73         42     25        128        76      25     45   \n",
       "Hyderabad         419        180     78        474       301      81    196   \n",
       "Jaipur             76         49      9         91        73      15     28   \n",
       "Kolkata           113         67     17        142       101      28     67   \n",
       "Lucknow            42         20      3         50        31       5     22   \n",
       "Mumbai            292        142     95        402       304      73    141   \n",
       "Pune              203        100     36        248       150      31     82   \n",
       "All              2112       1058    455       2538      1854     479    979   \n",
       "\n",
       "Current_brands   All  \n",
       "City                  \n",
       "Ahmedabad        434  \n",
       "Bangalore       2669  \n",
       "Chennai          881  \n",
       "Delhi            414  \n",
       "Hyderabad       1729  \n",
       "Jaipur           341  \n",
       "Kolkata          535  \n",
       "Lucknow          173  \n",
       "Mumbai          1449  \n",
       "Pune             850  \n",
       "All             9475  "
      ]
     },
     "execution_count": 106,
     "metadata": {},
     "output_type": "execute_result"
    }
   ],
   "source": [
    "city_brand_pivot"
   ]
  },
  {
   "cell_type": "code",
   "execution_count": 108,
   "id": "a9cca5c8",
   "metadata": {},
   "outputs": [
    {
     "data": {
      "text/plain": [
       "City\n",
       "Ahmedabad     434\n",
       "Bangalore    2669\n",
       "Chennai       881\n",
       "Delhi         414\n",
       "Hyderabad    1729\n",
       "Jaipur        341\n",
       "Kolkata       535\n",
       "Lucknow       173\n",
       "Mumbai       1449\n",
       "Pune          850\n",
       "All          9475\n",
       "Name: All, dtype: int64"
      ]
     },
     "execution_count": 108,
     "metadata": {},
     "output_type": "execute_result"
    }
   ],
   "source": [
    "city_brand_pivot['All']"
   ]
  },
  {
   "cell_type": "code",
   "execution_count": 133,
   "id": "5faccdb6",
   "metadata": {},
   "outputs": [
    {
     "data": {
      "image/png": "[encoded data removed]",
      "text/plain": [
       "<Figure size 640x480 with 2 Axes>"
      ]
     },
     "metadata": {},
     "output_type": "display_data"
    }
   ],
   "source": [
    "sns.set_style('ticks')\n",
    "ax = sns.heatmap(city_brand_pivot.div(city_brand_pivot.All,axis=0).iloc[:,:-1]*100, annot=True, cmap='RdBu')\n",
    "ax.set_xticklabels(ax.get_xticklabels(),rotation=20,ha='center')\n",
    "ax.xaxis.tick_top()"
   ]
  },
  {
   "cell_type": "code",
   "execution_count": null,
   "id": "6a13d976",
   "metadata": {},
   "outputs": [],
   "source": []
  },
  {
   "cell_type": "code",
   "execution_count": 87,
   "id": "f4d45fb0",
   "metadata": {},
   "outputs": [],
   "source": [
    "# city_brand = city_brand.groupby(['City', 'Current_brands']).agg(['count'])[['Respondent_ID']]\n",
    "# city_brand.reset_index(inplace=True)\n",
    "# city_brand.columns = ['City', 'Current_brands', 'Count']\n",
    "# #city_brand\n",
    "# city_brand.head(20)\n",
    "# city_brand['citywise_count'] = city_brand.groupby(['City'])['Count'].transform('sum')\n",
    "# city_brand['percentage'] = np.round(100 * city_brand['Count'] / city_brand['citywise_count'], 2)\n",
    "# city_brand.groupby('City').apply(lambda x:x.sort_values('percentage', ascending=False))"
   ]
  },
  {
   "cell_type": "markdown",
   "id": "c221dd58",
   "metadata": {},
   "source": [
    "Major focus of improvement should be given to `Lucknow`, `Jaipur ` and `Kolkata` locations because we are bottom performers with just around 3% market value.\n"
   ]
  },
  {
   "cell_type": "code",
   "execution_count": null,
   "id": "06dad12a",
   "metadata": {},
   "outputs": [],
   "source": []
  },
  {
   "cell_type": "markdown",
   "id": "10f90ec4",
   "metadata": {},
   "source": [
    "### 6. Purchase Behavior:\n",
    "    "
   ]
  },
  {
   "cell_type": "markdown",
   "id": "0ba2c2dd",
   "metadata": {},
   "source": [
    "#### a. Where do respondents prefer to purchase energy drinks?"
   ]
  },
  {
   "cell_type": "code",
   "execution_count": 134,
   "id": "31dd0ce5",
   "metadata": {},
   "outputs": [
    {
     "data": {
      "text/plain": [
       "Supermarkets                4494\n",
       "Online retailers            2550\n",
       "Gyms and fitness centers    1464\n",
       "Local stores                 813\n",
       "Other                        679\n",
       "Name: Purchase_location, dtype: int64"
      ]
     },
     "execution_count": 134,
     "metadata": {},
     "output_type": "execute_result"
    }
   ],
   "source": [
    "df.Purchase_location.value_counts()"
   ]
  },
  {
   "cell_type": "markdown",
   "id": "1eb42d5a",
   "metadata": {},
   "source": [
    "Many people prefer to purchase the energy drinks at`Supermarkets`"
   ]
  },
  {
   "cell_type": "markdown",
   "id": "3401256e",
   "metadata": {},
   "source": [
    "####   b. What are the typical consumption situations for energy drinks among respondents?"
   ]
  },
  {
   "cell_type": "code",
   "execution_count": 135,
   "id": "2d1545a3",
   "metadata": {},
   "outputs": [
    {
     "data": {
      "text/plain": [
       "Sports/exercise           4494\n",
       "Studying/working late     3231\n",
       "Social outings/parties    1487\n",
       "Other                      491\n",
       "Driving/commuting          297\n",
       "Name: Typical_consumption_situations, dtype: int64"
      ]
     },
     "execution_count": 135,
     "metadata": {},
     "output_type": "execute_result"
    }
   ],
   "source": [
    "df.Typical_consumption_situations.value_counts()"
   ]
  },
  {
   "cell_type": "markdown",
   "id": "b263c682",
   "metadata": {},
   "source": [
    "Larger portion of respondents prefer to consume energy drink when involved in `Sports/exercise`."
   ]
  },
  {
   "cell_type": "markdown",
   "id": "3776eff9",
   "metadata": {},
   "source": [
    "####    c. What factors influence respondents' purchase decisions, such as price range and limited edition packaging?"
   ]
  },
  {
   "cell_type": "code",
   "execution_count": 136,
   "id": "6a9d3be8",
   "metadata": {},
   "outputs": [
    {
     "data": {
      "text/plain": [
       "No          4023\n",
       "Yes         3946\n",
       "Not Sure    2031\n",
       "Name: Limited_edition_packaging, dtype: int64"
      ]
     },
     "execution_count": 136,
     "metadata": {},
     "output_type": "execute_result"
    }
   ],
   "source": [
    "df.Limited_edition_packaging.value_counts()"
   ]
  },
  {
   "cell_type": "markdown",
   "id": "21440345",
   "metadata": {},
   "source": [
    "`Limited edition packaging` doesn't seems to be a vital factor for the respondents."
   ]
  },
  {
   "cell_type": "code",
   "execution_count": 137,
   "id": "9d8b8406",
   "metadata": {},
   "outputs": [
    {
     "data": {
      "text/plain": [
       "50-99        4288\n",
       "100-150      3142\n",
       "Above 150    1561\n",
       "Below 50     1009\n",
       "Name: Price_range, dtype: int64"
      ]
     },
     "execution_count": 137,
     "metadata": {},
     "output_type": "execute_result"
    }
   ],
   "source": [
    "df.Price_range.value_counts()"
   ]
  },
  {
   "cell_type": "markdown",
   "id": "0f8c46f3",
   "metadata": {},
   "source": [
    "Many people are okay with the price range of `50-99`. the results shown suggests that if the price is higher or lower than certain margin, the product is less likely to be bought."
   ]
  },
  {
   "cell_type": "markdown",
   "id": "b59eb17a",
   "metadata": {},
   "source": [
    "### 7. Product Development\n",
    "  "
   ]
  },
  {
   "cell_type": "markdown",
   "id": "a7114146",
   "metadata": {},
   "source": [
    "#### a. Which area of business should we focus more on our product development? (Branding/taste/availability)"
   ]
  },
  {
   "cell_type": "markdown",
   "id": "15e5d7dd",
   "metadata": {},
   "source": [
    "Main focus should be given to taste, followed by branding and availability."
   ]
  },
  {
   "cell_type": "markdown",
   "id": "47bb2f11",
   "metadata": {},
   "source": [
    "## Secondary Insights"
   ]
  },
  {
   "cell_type": "markdown",
   "id": "73231a14",
   "metadata": {},
   "source": [
    "#### What immediate improvements can we bring to the product?"
   ]
  },
  {
   "cell_type": "markdown",
   "id": "c75000d2",
   "metadata": {},
   "source": [
    "Improve the taste, branding name,logo or design and give some promotional offers."
   ]
  },
  {
   "cell_type": "markdown",
   "id": "2bff5689",
   "metadata": {},
   "source": [
    "####  What should be the ideal price of our product?"
   ]
  },
  {
   "cell_type": "code",
   "execution_count": null,
   "id": "504625d8",
   "metadata": {},
   "outputs": [],
   "source": []
  },
  {
   "cell_type": "markdown",
   "id": "cbc8fe51",
   "metadata": {},
   "source": [
    "The ideal price range would be around 80"
   ]
  },
  {
   "cell_type": "markdown",
   "id": "183aa532",
   "metadata": {},
   "source": [
    "#### What kind of marketing campaigns, offers, and discounts we can run?"
   ]
  },
  {
   "cell_type": "markdown",
   "id": "6b85ded2",
   "metadata": {},
   "source": []
  },
  {
   "cell_type": "markdown",
   "id": "07de9162",
   "metadata": {},
   "source": [
    "#### Who can be a brand ambassador, and why?"
   ]
  },
  {
   "cell_type": "markdown",
   "id": "7855cacd",
   "metadata": {},
   "source": [
    "A reputed sports athlete, who is admired by the youth age group will be a better option."
   ]
  },
  {
   "cell_type": "markdown",
   "id": "41f2a052",
   "metadata": {},
   "source": [
    "#### Who should be our target audience, and why?"
   ]
  },
  {
   "cell_type": "code",
   "execution_count": 206,
   "id": "aeb6e939",
   "metadata": {},
   "outputs": [
    {
     "data": {
      "text/plain": [
       "19-30    4872\n",
       "15-18    1407\n",
       "31-45    1089\n",
       "46-65     212\n",
       "65+       182\n",
       "Name: Age, dtype: int64"
      ]
     },
     "execution_count": 206,
     "metadata": {},
     "output_type": "execute_result"
    }
   ],
   "source": [
    "df[~(df.General_perception == 'Dangerous')].Age.value_counts()"
   ]
  },
  {
   "cell_type": "markdown",
   "id": "39bc4165",
   "metadata": {},
   "source": [
    "Our target group should be people who belongs to age group of 15 to 30, because as per our survey many people who responded belongs to this category who feel its not Dangerous to consume the energy drinks."
   ]
  },
  {
   "cell_type": "code",
   "execution_count": null,
   "id": "ebeb50b7",
   "metadata": {},
   "outputs": [],
   "source": []
  },
  {
   "cell_type": "code",
   "execution_count": null,
   "id": "fa952985",
   "metadata": {},
   "outputs": [],
   "source": []
  },
  {
   "cell_type": "code",
   "execution_count": null,
   "id": "17d49b6a",
   "metadata": {},
   "outputs": [],
   "source": []
  },
  {
   "cell_type": "code",
   "execution_count": null,
   "id": "0ade81c9",
   "metadata": {},
   "outputs": [],
   "source": []
  },
  {
   "cell_type": "code",
   "execution_count": null,
   "id": "77517819",
   "metadata": {},
   "outputs": [],
   "source": []
  },
  {
   "cell_type": "code",
   "execution_count": null,
   "id": "407aebfc",
   "metadata": {},
   "outputs": [],
   "source": []
  }
 ],
 "metadata": {
  "kernelspec": {
   "display_name": "Python 3 (ipykernel)",
   "language": "python",
   "name": "python3"
  },
  "language_info": {
   "codemirror_mode": {
    "name": "ipython",
    "version": 3
   },
   "file_extension": ".py",
   "mimetype": "text/x-python",
   "name": "python",
   "nbconvert_exporter": "python",
   "pygments_lexer": "ipython3",
   "version": "3.9.7"
  }
 },
 "nbformat": 4,
 "nbformat_minor": 5
}
